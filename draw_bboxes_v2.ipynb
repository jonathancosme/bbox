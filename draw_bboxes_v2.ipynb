{
 "cells": [
  {
   "cell_type": "code",
   "execution_count": 1,
   "id": "e2e29bed-34dd-4318-b7a6-fbb00784eb7d",
   "metadata": {},
   "outputs": [],
   "source": [
    "%load_ext autoreload\n",
    "%autoreload 2"
   ]
  },
  {
   "cell_type": "code",
   "execution_count": 2,
   "id": "4897271a-d9e9-4fbf-a113-d07d6602c998",
   "metadata": {},
   "outputs": [],
   "source": [
    "import pandas as pd\n",
    "import cv2 as cv\n",
    "import numpy as np\n",
    "import pprint\n",
    "import matplotlib.pyplot as plt\n",
    "import os\n",
    "import time\n",
    "plt.rcParams['figure.figsize'] = [15, 10]\n",
    "pd.options.display.max_columns = None\n",
    "pd.options.display.width=None\n",
    "\n",
    "from config import folder_locs, interest_cols, rando_seed"
   ]
  },
  {
   "cell_type": "markdown",
   "id": "3c466271-d952-46ca-a697-f67dd230df37",
   "metadata": {},
   "source": [
    "# Instructions:\n",
    "1. Put all your photos in the input_photos folder\n",
    "2. Put the annotation file in the input_csvs folder\n",
    "3. Set the input_csv_filename variable (in the User Input section below) to the name of the annotation file\n",
    "4. Run all the cells (top menu: Run > Run All Cells)"
   ]
  },
  {
   "cell_type": "markdown",
   "id": "aaf13fd5-f22d-4569-950e-3b963416d38b",
   "metadata": {},
   "source": [
    "# User Inputs\n",
    "\n",
    "enter the name of the csv file. \n",
    "\n",
    "if the file is an excel file, please save the file as a csv file by:\n",
    "+ opening the excel file\n",
    "+ selecting File from the menu at the top\n",
    "+ selecting Save As\n",
    "+ selecting CSV UTF-8 from the drop-down menu\n",
    "+ selecting Save"
   ]
  },
  {
   "cell_type": "code",
   "execution_count": 3,
   "id": "9019cb2a-0b54-4061-a5b9-66cc1091c61e",
   "metadata": {},
   "outputs": [],
   "source": [
    "input_csv_filename = 'sample csv.csv'\n",
    "photo_file_types = ['.jpg', '.jpeg']"
   ]
  },
  {
   "cell_type": "markdown",
   "id": "f01cfcc3-2040-4c8c-8b57-6ba7a83ddd3c",
   "metadata": {},
   "source": [
    "# Code"
   ]
  },
  {
   "cell_type": "markdown",
   "id": "b95a1354-14d7-4cc3-bde0-fb8d302886c8",
   "metadata": {},
   "source": [
    "creating the relative filepath for the annoation file"
   ]
  },
  {
   "cell_type": "code",
   "execution_count": 4,
   "id": "9896e11b-90ee-4c37-a235-aadb1899fff2",
   "metadata": {},
   "outputs": [
    {
     "name": "stdout",
     "output_type": "stream",
     "text": [
      "./input_csvs/sample csv.csv\n"
     ]
    }
   ],
   "source": [
    "input_csv_filepath = folder_locs['in_files'] + input_csv_filename\n",
    "# print(input_csv_filepath)"
   ]
  },
  {
   "cell_type": "markdown",
   "id": "8164bb58-8ac1-4e37-ae4f-6bf234d527c8",
   "metadata": {},
   "source": [
    "loading the annotation file as a dataframe"
   ]
  },
  {
   "cell_type": "code",
   "execution_count": 5,
   "id": "e18e9210-fc9a-49c5-930a-1db25086f1a0",
   "metadata": {},
   "outputs": [
    {
     "data": {
      "text/html": [
       "<div>\n",
       "<style scoped>\n",
       "    .dataframe tbody tr th:only-of-type {\n",
       "        vertical-align: middle;\n",
       "    }\n",
       "\n",
       "    .dataframe tbody tr th {\n",
       "        vertical-align: top;\n",
       "    }\n",
       "\n",
       "    .dataframe thead th {\n",
       "        text-align: right;\n",
       "    }\n",
       "</style>\n",
       "<table border=\"1\" class=\"dataframe\">\n",
       "  <thead>\n",
       "    <tr style=\"text-align: right;\">\n",
       "      <th></th>\n",
       "      <th>Track</th>\n",
       "      <th>File Name</th>\n",
       "      <th>3: Unique Frame Identifier</th>\n",
       "      <th>4-7: Img-bbox(TL_x</th>\n",
       "      <th>TL_y</th>\n",
       "      <th>BR_x</th>\n",
       "      <th>BR_y)</th>\n",
       "      <th>8: Detection or Length Confidence</th>\n",
       "      <th>9: Target Length (0 or -1 if invalid)</th>\n",
       "      <th>10-11+: Repeated Species</th>\n",
       "      <th>Confidence Pairs or Attributes</th>\n",
       "    </tr>\n",
       "  </thead>\n",
       "  <tbody>\n",
       "    <tr>\n",
       "      <th>0</th>\n",
       "      <td>1</td>\n",
       "      <td>2WDC5729-camera_1-20190225-155821Z(StitchedCli...</td>\n",
       "      <td>554</td>\n",
       "      <td>56</td>\n",
       "      <td>328</td>\n",
       "      <td>734</td>\n",
       "      <td>580</td>\n",
       "      <td>1</td>\n",
       "      <td>-1</td>\n",
       "      <td>Swordfish</td>\n",
       "      <td>1</td>\n",
       "    </tr>\n",
       "    <tr>\n",
       "      <th>1</th>\n",
       "      <td>412</td>\n",
       "      <td>94a6c30c-23f0-11e9-a7ea-2352e208ce34.jpg</td>\n",
       "      <td>6131</td>\n",
       "      <td>306</td>\n",
       "      <td>423</td>\n",
       "      <td>425</td>\n",
       "      <td>477</td>\n",
       "      <td>1</td>\n",
       "      <td>-1</td>\n",
       "      <td>Albacore</td>\n",
       "      <td>1</td>\n",
       "    </tr>\n",
       "    <tr>\n",
       "      <th>2</th>\n",
       "      <td>7</td>\n",
       "      <td>2WDC5729-camera_1-20190225-155821Z(StitchedCli...</td>\n",
       "      <td>2821</td>\n",
       "      <td>813</td>\n",
       "      <td>238</td>\n",
       "      <td>1194</td>\n",
       "      <td>461</td>\n",
       "      <td>1</td>\n",
       "      <td>-1</td>\n",
       "      <td>Bigeyetuna</td>\n",
       "      <td>1</td>\n",
       "    </tr>\n",
       "    <tr>\n",
       "      <th>3</th>\n",
       "      <td>27</td>\n",
       "      <td>2WDC5729-camera_1-20190225-155821Z(StitchedCli...</td>\n",
       "      <td>4602</td>\n",
       "      <td>928</td>\n",
       "      <td>243</td>\n",
       "      <td>1246</td>\n",
       "      <td>421</td>\n",
       "      <td>1</td>\n",
       "      <td>-1</td>\n",
       "      <td>Yellowfintuna</td>\n",
       "      <td>1</td>\n",
       "    </tr>\n",
       "    <tr>\n",
       "      <th>4</th>\n",
       "      <td>165078</td>\n",
       "      <td>WDC5729-camera_2-20190119-195049Z61807.jpg</td>\n",
       "      <td>65714</td>\n",
       "      <td>752</td>\n",
       "      <td>561</td>\n",
       "      <td>842</td>\n",
       "      <td>718</td>\n",
       "      <td>1</td>\n",
       "      <td>-1</td>\n",
       "      <td>Blueshark</td>\n",
       "      <td>1</td>\n",
       "    </tr>\n",
       "  </tbody>\n",
       "</table>\n",
       "</div>"
      ],
      "text/plain": [
       "    Track                                          File Name  \\\n",
       "0       1  2WDC5729-camera_1-20190225-155821Z(StitchedCli...   \n",
       "1     412           94a6c30c-23f0-11e9-a7ea-2352e208ce34.jpg   \n",
       "2       7  2WDC5729-camera_1-20190225-155821Z(StitchedCli...   \n",
       "3      27  2WDC5729-camera_1-20190225-155821Z(StitchedCli...   \n",
       "4  165078         WDC5729-camera_2-20190119-195049Z61807.jpg   \n",
       "\n",
       "   3: Unique Frame Identifier  4-7: Img-bbox(TL_x  TL_y  BR_x  BR_y)  \\\n",
       "0                         554                  56   328   734    580   \n",
       "1                        6131                 306   423   425    477   \n",
       "2                        2821                 813   238  1194    461   \n",
       "3                        4602                 928   243  1246    421   \n",
       "4                       65714                 752   561   842    718   \n",
       "\n",
       "   8: Detection or Length Confidence  9: Target Length (0 or -1 if invalid)  \\\n",
       "0                                  1                                     -1   \n",
       "1                                  1                                     -1   \n",
       "2                                  1                                     -1   \n",
       "3                                  1                                     -1   \n",
       "4                                  1                                     -1   \n",
       "\n",
       "  10-11+: Repeated Species  Confidence Pairs or Attributes  \n",
       "0                Swordfish                               1  \n",
       "1                 Albacore                               1  \n",
       "2               Bigeyetuna                               1  \n",
       "3            Yellowfintuna                               1  \n",
       "4                Blueshark                               1  "
      ]
     },
     "execution_count": 5,
     "metadata": {},
     "output_type": "execute_result"
    }
   ],
   "source": [
    "csv_df = pd.read_csv(input_csv_filepath)\n",
    "# csv_df"
   ]
  },
  {
   "cell_type": "markdown",
   "id": "22054f23-db2c-4343-9827-9d8e6e1ef62f",
   "metadata": {},
   "source": [
    "getting all the uniuqe labels in the annotation file"
   ]
  },
  {
   "cell_type": "code",
   "execution_count": 6,
   "id": "d0b19655-23b7-4bb8-b8ca-488097d55a92",
   "metadata": {},
   "outputs": [
    {
     "name": "stdout",
     "output_type": "stream",
     "text": [
      "['Swordfish' 'Albacore' 'Bigeyetuna' 'Yellowfintuna' 'Blueshark']\n"
     ]
    }
   ],
   "source": [
    "unique_labels = csv_df[interest_cols['label']].unique()\n",
    "# print(unique_labels)"
   ]
  },
  {
   "cell_type": "markdown",
   "id": "c5cb70ef-96ee-42b1-aca2-20d6330d2095",
   "metadata": {},
   "source": [
    "generating colors for the bounding boxes of the unique labels.  \n",
    "a random seed has been set in the config.py file, under the scripts folder.  \n",
    "this means that the colors generated for a certain annotation file will always be the same"
   ]
  },
  {
   "cell_type": "code",
   "execution_count": 7,
   "id": "5a29257e-8cf4-4a84-88f6-5075664b1aab",
   "metadata": {},
   "outputs": [],
   "source": [
    "np.random.seed(rando_seed)\n",
    "rando_bgrs = np.random.choice(a=np.arange(start=30, \n",
    "                                          stop=225), \n",
    "                              size=3*len(unique_labels), \n",
    "                              replace=False).reshape(len(unique_labels), 3).tolist()"
   ]
  },
  {
   "cell_type": "markdown",
   "id": "7d76fa51-b352-4a96-a362-1bfe69cddc37",
   "metadata": {},
   "source": [
    "creating a dictionary with the unique labels as keys, and the bounding box colors as the values"
   ]
  },
  {
   "cell_type": "code",
   "execution_count": 8,
   "id": "b392aee5-957f-4f2f-b84a-e51bac6b47b0",
   "metadata": {},
   "outputs": [
    {
     "name": "stdout",
     "output_type": "stream",
     "text": [
      "{'Albacore': (126, 98, 183),\n",
      " 'Bigeyetuna': (85, 45, 142),\n",
      " 'Blueshark': (112, 39, 194),\n",
      " 'Swordfish': (168, 46, 185),\n",
      " 'Yellowfintuna': (141, 214, 48)}\n"
     ]
    }
   ],
   "source": [
    "label_bgrs = {}\n",
    "for i, a_label in enumerate(unique_labels):\n",
    "    label_bgrs[a_label] = tuple(rando_bgrs[i])\n",
    "# pprint.pprint(label_bgrs)"
   ]
  },
  {
   "cell_type": "markdown",
   "id": "3df35fb9-2eb5-40f6-afbe-f29fd5a4b416",
   "metadata": {},
   "source": [
    "create a function to determine if a filename is a photo image.  \n",
    "uses the extenstions defines in photo_file_types variable under Inputs section."
   ]
  },
  {
   "cell_type": "code",
   "execution_count": 9,
   "id": "1af6f1fd-177a-4585-a6da-c007714deeed",
   "metadata": {},
   "outputs": [],
   "source": [
    "def is_file_a_photo(a_filename):\n",
    "    is_in_photo = [x in a_filename for x in photo_file_types]\n",
    "    is_in_photo = any(is_in_photo)\n",
    "    if is_in_photo:\n",
    "        return a_filename\n",
    "    else:\n",
    "        return None"
   ]
  },
  {
   "cell_type": "markdown",
   "id": "8c75094d-b835-47f7-9521-0738e56e1b43",
   "metadata": {},
   "source": [
    "get all the files in the input_photos folder, keep only the images."
   ]
  },
  {
   "cell_type": "code",
   "execution_count": 10,
   "id": "94d551a2-5a65-4522-9a3c-db084111769d",
   "metadata": {},
   "outputs": [
    {
     "data": {
      "text/plain": [
       "4"
      ]
     },
     "execution_count": 10,
     "metadata": {},
     "output_type": "execute_result"
    }
   ],
   "source": [
    "files_in_input_photos = os.listdir(folder_locs['in_pics'])\n",
    "files_in_input_photos = [is_file_a_photo(x) for x in files_in_input_photos if is_file_a_photo(x)]\n",
    "# len(files_in_input_photos)"
   ]
  },
  {
   "cell_type": "markdown",
   "id": "d1ab4a1b-bf55-4c22-9c45-8c4e304d66f0",
   "metadata": {},
   "source": [
    "get all files in the output_photos folder.  \n",
    "The script will assume that these photos have already been processed, and will not process them again."
   ]
  },
  {
   "cell_type": "code",
   "execution_count": 11,
   "id": "1f2e7f0e-520e-49c2-a086-ba8b147fd79d",
   "metadata": {},
   "outputs": [
    {
     "data": {
      "text/plain": [
       "4"
      ]
     },
     "execution_count": 11,
     "metadata": {},
     "output_type": "execute_result"
    }
   ],
   "source": [
    "file_in_output_photos = os.listdir(folder_locs['out_pics'])\n",
    "file_in_output_photos = [is_file_a_photo(x) for x in file_in_output_photos if is_file_a_photo(x)]\n",
    "# len(file_in_output_photos)"
   ]
  },
  {
   "cell_type": "markdown",
   "id": "1e09d7bc-138f-4784-a2c4-04290726a1f9",
   "metadata": {},
   "source": [
    "create a dataframe for the results of the script"
   ]
  },
  {
   "cell_type": "code",
   "execution_count": 12,
   "id": "1e706092-2ca3-4560-b018-518377ae49ff",
   "metadata": {},
   "outputs": [],
   "source": [
    "results_df = pd.DataFrame(columns=['filename', 'result'])"
   ]
  },
  {
   "cell_type": "markdown",
   "id": "e1e86ca9-f298-46ba-923b-402b6d9e4e27",
   "metadata": {},
   "source": [
    "add notes for files that have already been processed. "
   ]
  },
  {
   "cell_type": "code",
   "execution_count": 13,
   "id": "72116f8a-8526-4b2a-882c-264887c753ad",
   "metadata": {},
   "outputs": [],
   "source": [
    "results_df['filename'] = file_in_output_photos\n",
    "results_df['result'] = 'already exists in output_photos'\n",
    "# results_df"
   ]
  },
  {
   "cell_type": "markdown",
   "id": "59cab79e-fcd3-454e-a790-8e95068e143d",
   "metadata": {},
   "source": [
    "make a list of the files to process.   \n",
    "This is all the images in the input_photos folder, that does not have a corresponding file in the output_photos folder."
   ]
  },
  {
   "cell_type": "code",
   "execution_count": 14,
   "id": "3d19ee16-d481-4079-b9ee-3cc4834a519b",
   "metadata": {},
   "outputs": [
    {
     "data": {
      "text/plain": [
       "0"
      ]
     },
     "execution_count": 14,
     "metadata": {},
     "output_type": "execute_result"
    }
   ],
   "source": [
    "files_to_process = list(set(files_in_input_photos).difference(set(file_in_output_photos)))\n",
    "# len(files_to_process)"
   ]
  },
  {
   "cell_type": "markdown",
   "id": "0afbaa13-235d-47a8-96c2-f9c2249b1ec6",
   "metadata": {},
   "source": [
    "make a list of photos that exists in the csv file, that do NOT exists in the input_photos folder."
   ]
  },
  {
   "cell_type": "code",
   "execution_count": 15,
   "id": "9424fd04-f729-4a36-929c-74ab390874a8",
   "metadata": {},
   "outputs": [
    {
     "data": {
      "text/plain": [
       "1"
      ]
     },
     "execution_count": 15,
     "metadata": {},
     "output_type": "execute_result"
    }
   ],
   "source": [
    "files_that_exists = list(set(files_in_input_photos + file_in_output_photos))\n",
    "missing_files = list(set(csv_df[interest_cols['filename']].tolist()).difference(set(files_that_exists)))\n",
    "# len(missing_files)"
   ]
  },
  {
   "cell_type": "markdown",
   "id": "0b8ed2b1-f9e7-435b-a706-9ba01a668359",
   "metadata": {},
   "source": [
    "add the missing files to the results_df"
   ]
  },
  {
   "cell_type": "code",
   "execution_count": 16,
   "id": "c37501fc-f4d4-44a0-8923-6c750dbb9a0e",
   "metadata": {},
   "outputs": [],
   "source": [
    "missing_rows = [{'filename': x, 'result':'missing file in input_photos'} for x in missing_files]\n",
    "results_df = results_df.append(missing_rows, ignore_index=True)\n",
    "# results_df"
   ]
  },
  {
   "cell_type": "markdown",
   "id": "3f025482-2ed2-43f4-befb-21a544800177",
   "metadata": {},
   "source": [
    "subset the csv_df to contain only rows that have existing files in the input_photos folder"
   ]
  },
  {
   "cell_type": "code",
   "execution_count": 17,
   "id": "01256002-f85c-4b79-814b-623edd5a424c",
   "metadata": {},
   "outputs": [],
   "source": [
    "csv_df = csv_df.set_index(interest_cols['filename']).loc[files_to_process].reset_index()\n",
    "# csv_df"
   ]
  },
  {
   "cell_type": "markdown",
   "id": "4560d4b1-4e99-4cec-a865-77b5b18091b2",
   "metadata": {},
   "source": [
    "create the function to annotate and save an image"
   ]
  },
  {
   "cell_type": "code",
   "execution_count": 18,
   "id": "cbc72b1d-e2c8-47e8-b4b6-ac4caca81d31",
   "metadata": {},
   "outputs": [],
   "source": [
    "def create_annotated_image(filename):\n",
    "    txt_color=(255, 255, 255) # the text color will be white\n",
    "    cur_df = csv_df[csv_df[interest_cols['filename']]==filename].copy() # subset the dataframe for one photo\n",
    "    cur_filepath = folder_locs['in_pics'] + filename # create the filepath for the filename\n",
    "    cur_img = cv.imread(cur_filepath)\n",
    "    line_thickness = max(round(sum(cur_img.shape) / 2 * 0.003), 2)  # calculate bbox line thickness\n",
    "    n_rows = cur_df.shape[0]\n",
    "    cur_row = 0\n",
    "    try:\n",
    "        for i, row in cur_df.iterrows():\n",
    "\n",
    "            cur_label = row[interest_cols['label']] # get the label of the row\n",
    "\n",
    "            # get the color (BGR) for the label\n",
    "            cur_col = label_bgrs[cur_label]\n",
    "\n",
    "            # make rectangle xy coordinates\n",
    "            x1 = row[interest_cols['x1']]\n",
    "            y1 = row[interest_cols['y1']]\n",
    "            x2 = row[interest_cols['x2']]\n",
    "            y2 = row[interest_cols['y2']]\n",
    "            coord_1, coord_2 = (x1, y1), (x2, y2)\n",
    "\n",
    "            # draw the bounding box\n",
    "            cv.rectangle(cur_img, \n",
    "                         coord_1, \n",
    "                         coord_2, \n",
    "                         cur_col, \n",
    "                         thickness=line_thickness, \n",
    "                         lineType=cv.LINE_AA,\n",
    "                        )\n",
    "\n",
    "            # insert text label\n",
    "            font_thickness = max(line_thickness - 1, 1)\n",
    "            w, h = cv.getTextSize(cur_label, \n",
    "                                  0, \n",
    "                                  fontScale=line_thickness / 3, \n",
    "                                  thickness=font_thickness)[0]\n",
    "            coord_2 = coord_1[0] + w, coord_1[1] - h - 3\n",
    "            cv.rectangle(cur_img, \n",
    "                         coord_1, \n",
    "                         coord_2, \n",
    "                         cur_col, \n",
    "                         -1, \n",
    "                         cv.LINE_AA,\n",
    "                        )\n",
    "            cv.putText(cur_img, \n",
    "                       cur_label, \n",
    "                       (coord_1[0], coord_1[1] - 2), \n",
    "                       0, \n",
    "                       line_thickness / 3, \n",
    "                       txt_color, \n",
    "                       thickness=font_thickness, \n",
    "                       lineType=cv.LINE_AA,\n",
    "                      )\n",
    "\n",
    "            cur_row += 1\n",
    "\n",
    "        out_filepath = folder_locs['out_pics'] + filename # create relative filepath of the image to be saved\n",
    "        cv.imwrite(out_filepath, cur_img) # save the file\n",
    "        return {'filename': filename, 'result': 'success'}\n",
    "    \n",
    "    except:\n",
    "        return {'filename': filename, 'result': 'failed'}\n",
    "    "
   ]
  },
  {
   "cell_type": "markdown",
   "id": "c9954d32-ebc7-4a26-8e47-799701417b0d",
   "metadata": {},
   "source": [
    "create a list of filenames to be processed"
   ]
  },
  {
   "cell_type": "code",
   "execution_count": 19,
   "id": "84c09385-df65-41eb-b764-200e9ee6d172",
   "metadata": {},
   "outputs": [],
   "source": [
    "filenames = csv_df[interest_cols['filename']].unique()\n",
    "# len(filenames)"
   ]
  },
  {
   "cell_type": "markdown",
   "id": "49f8b260-2e63-41a5-bb29-f03740096b83",
   "metadata": {},
   "source": [
    "iterate through each filename and get the result of the processing (either 'success' of 'failed')"
   ]
  },
  {
   "cell_type": "code",
   "execution_count": 20,
   "id": "a2b38f4f-b27e-410e-8c7b-25697ac1228a",
   "metadata": {},
   "outputs": [
    {
     "name": "stdout",
     "output_type": "stream",
     "text": [
      "Wall time: 0 ns\n"
     ]
    }
   ],
   "source": [
    "%%time\n",
    "results = []\n",
    "for i, filename in enumerate(filenames):\n",
    "    results.append(create_annotated_image(filename))"
   ]
  },
  {
   "cell_type": "markdown",
   "id": "7b0df76f-0fe3-4160-a23a-c7bbb4ab5bd1",
   "metadata": {},
   "source": [
    "add the results of the functions to the results_df"
   ]
  },
  {
   "cell_type": "code",
   "execution_count": 21,
   "id": "c8d48258-e304-4034-afae-4962ddbe6ff7",
   "metadata": {},
   "outputs": [],
   "source": [
    "results_df = pd.concat([results_df, pd.DataFrame(results)], ignore_index=True)\n",
    "# results_df"
   ]
  },
  {
   "cell_type": "markdown",
   "id": "f38755b8-0930-4f59-9f41-3adcc01f8b8a",
   "metadata": {},
   "source": [
    "save the results_df as a csv file"
   ]
  },
  {
   "cell_type": "code",
   "execution_count": 22,
   "id": "8a2549f7-574e-43a3-8f9f-fc136c656e91",
   "metadata": {},
   "outputs": [],
   "source": [
    "results_df.to_csv('results_' + str(time.time()) + '.csv', index=False)"
   ]
  }
 ],
 "metadata": {
  "kernelspec": {
   "display_name": "Python 3 (ipykernel)",
   "language": "python",
   "name": "python3"
  },
  "language_info": {
   "codemirror_mode": {
    "name": "ipython",
    "version": 3
   },
   "file_extension": ".py",
   "mimetype": "text/x-python",
   "name": "python",
   "nbconvert_exporter": "python",
   "pygments_lexer": "ipython3",
   "version": "3.9.7"
  }
 },
 "nbformat": 4,
 "nbformat_minor": 5
}
