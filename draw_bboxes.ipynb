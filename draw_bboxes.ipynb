{
 "cells": [
  {
   "cell_type": "code",
   "execution_count": 1,
   "id": "e2e29bed-34dd-4318-b7a6-fbb00784eb7d",
   "metadata": {},
   "outputs": [],
   "source": [
    "%load_ext autoreload\n",
    "%autoreload 2"
   ]
  },
  {
   "cell_type": "code",
   "execution_count": 1,
   "id": "4897271a-d9e9-4fbf-a113-d07d6602c998",
   "metadata": {},
   "outputs": [],
   "source": [
    "import pandas as pd\n",
    "import cv2 as cv\n",
    "import numpy as np\n",
    "import pprint\n",
    "import matplotlib.pyplot as plt\n",
    "plt.rcParams['figure.figsize'] = [15, 10]\n",
    "pd.options.display.max_columns = None\n",
    "pd.options.display.width=None\n",
    "\n",
    "from config import folder_locs, interest_cols, rando_seed"
   ]
  },
  {
   "cell_type": "markdown",
   "id": "3c466271-d952-46ca-a697-f67dd230df37",
   "metadata": {},
   "source": [
    "# Instructions:\n",
    "1. Put all your photos in the input_photos folder\n",
    "2. Put the annotation file in the input_csvs folder\n",
    "3. Set the input_csv_filename variable (in the User Input section below) to the name of the annotation file\n",
    "4. Run all the cells (top menu: Run > Run All Cells)"
   ]
  },
  {
   "cell_type": "markdown",
   "id": "aaf13fd5-f22d-4569-950e-3b963416d38b",
   "metadata": {},
   "source": [
    "# User Input\n",
    "\n",
    "enter the name of the csv file. \n",
    "\n",
    "if the file is an excel file, please save the file as a csv file by:\n",
    "+ opening the excel file\n",
    "+ selecting File from the menu at the top\n",
    "+ selecting Save As\n",
    "+ selecting CSV UTF-8 from the drop-down menu\n",
    "+ selecting Save"
   ]
  },
  {
   "cell_type": "code",
   "execution_count": 3,
   "id": "9019cb2a-0b54-4061-a5b9-66cc1091c61e",
   "metadata": {},
   "outputs": [],
   "source": [
    "input_csv_filename = 'your_annotation_filename_here.csv'"
   ]
  },
  {
   "cell_type": "markdown",
   "id": "f01cfcc3-2040-4c8c-8b57-6ba7a83ddd3c",
   "metadata": {},
   "source": [
    "# Code"
   ]
  },
  {
   "cell_type": "markdown",
   "id": "b95a1354-14d7-4cc3-bde0-fb8d302886c8",
   "metadata": {},
   "source": [
    "creating the relative filepath for the annoation file"
   ]
  },
  {
   "cell_type": "code",
   "execution_count": 37,
   "id": "9896e11b-90ee-4c37-a235-aadb1899fff2",
   "metadata": {},
   "outputs": [],
   "source": [
    "input_csv_filepath = folder_locs['in_files'] + input_csv_filename\n",
    "# print(input_csv_filepath)"
   ]
  },
  {
   "cell_type": "markdown",
   "id": "8164bb58-8ac1-4e37-ae4f-6bf234d527c8",
   "metadata": {},
   "source": [
    "loading the annotation file as a dataframe"
   ]
  },
  {
   "cell_type": "code",
   "execution_count": 36,
   "id": "e18e9210-fc9a-49c5-930a-1db25086f1a0",
   "metadata": {},
   "outputs": [],
   "source": [
    "csv_df = pd.read_csv(input_csv_filepath)\n",
    "# csv_df"
   ]
  },
  {
   "cell_type": "markdown",
   "id": "22054f23-db2c-4343-9827-9d8e6e1ef62f",
   "metadata": {},
   "source": [
    "getting all the uniuqe labels in the annotation file"
   ]
  },
  {
   "cell_type": "code",
   "execution_count": 35,
   "id": "d0b19655-23b7-4bb8-b8ca-488097d55a92",
   "metadata": {},
   "outputs": [],
   "source": [
    "unique_labels = csv_df[interest_cols['label']].unique()\n",
    "# print(unique_labels)"
   ]
  },
  {
   "cell_type": "markdown",
   "id": "c5cb70ef-96ee-42b1-aca2-20d6330d2095",
   "metadata": {},
   "source": [
    "generating colors for the bounding boxes of the unique labels.  \n",
    "a random seed has been set in the config.py file, under the scripts folder.  \n",
    "this means that the colors generated for a certain annotation file will always be the same"
   ]
  },
  {
   "cell_type": "code",
   "execution_count": 27,
   "id": "5a29257e-8cf4-4a84-88f6-5075664b1aab",
   "metadata": {},
   "outputs": [],
   "source": [
    "np.random.seed(rando_seed)\n",
    "rando_bgrs = np.random.choice(a=np.arange(start=30, \n",
    "                                          stop=225), \n",
    "                              size=3*len(unique_labels), \n",
    "                              replace=False).reshape(len(unique_labels), 3).tolist()"
   ]
  },
  {
   "cell_type": "markdown",
   "id": "7d76fa51-b352-4a96-a362-1bfe69cddc37",
   "metadata": {},
   "source": [
    "creating a dictionary with the unique labels as keys, and the bounding box colors as the values"
   ]
  },
  {
   "cell_type": "code",
   "execution_count": 34,
   "id": "b392aee5-957f-4f2f-b84a-e51bac6b47b0",
   "metadata": {},
   "outputs": [],
   "source": [
    "label_bgrs = {}\n",
    "for i, a_label in enumerate(unique_labels):\n",
    "    label_bgrs[a_label] = tuple(rando_bgrs[i])\n",
    "# pprint.pprint(label_bgrs)"
   ]
  },
  {
   "cell_type": "markdown",
   "id": "fd68a995-d433-48ba-9814-a0a0fd6d8efd",
   "metadata": {},
   "source": [
    "iterate through each file to draw bounding boxes and labels.  \n",
    "save the images in the output_photos folder.\n",
    "\n",
    "If you want to see the step-by-step process of the code, uncomment all the 'print' blocks of code.  \n",
    "please make sure you are working with a small dataset if you are doing this (the sample file contained 5 images). "
   ]
  },
  {
   "cell_type": "code",
   "execution_count": 40,
   "id": "b4ed717e-0e00-493a-a4db-035434c834ed",
   "metadata": {},
   "outputs": [],
   "source": [
    "txt_color=(255, 255, 255) # the text color will be green\n",
    "filenames = csv_df[interest_cols['filename']].unique() # get all the unique filenames \n",
    "n_files = filenames.shape[0] # get a count of the total number of unique filenames\n",
    "\n",
    "for i, filename in enumerate(filenames):\n",
    "    \n",
    "    # print(f'\\n\\nWORKING WITH FILE {i+1} OF {n_files}')\n",
    "    # print(f'\\nFILENAME:\\n{filename}')\n",
    "    \n",
    "    cur_df = csv_df[csv_df[interest_cols['filename']]==filename].copy() # subset the dataframe for one photo\n",
    "    \n",
    "    # print(f'\\nTHESE ARE ALL THE ANNOTATIONS FOR THE FILE:\\n')\n",
    "    # for i, row in cur_df.iterrows():\n",
    "    #     print(row)\n",
    "    \n",
    "    cur_filepath = folder_locs['in_pics'] + filename # create the filepath for the filename\n",
    "    \n",
    "    # print(f'\\nTHIS IS THE FILEPATH USED TO READ THE IMAGE:\\n{cur_filepath}')\n",
    "    \n",
    "    cur_img = cv.imread(cur_filepath) # load the image file\n",
    "    \n",
    "    # print(f'\\nTHIS IS THE RAW IMAGE\\n')\n",
    "    # plt.imshow(cv.cvtColor(cur_img, cv.COLOR_BGR2RGB))\n",
    "    # plt.show()\n",
    "    \n",
    "    \n",
    "    line_thickness = max(round(sum(cur_img.shape) / 2 * 0.003), 2)  # calculate bbox line thickness\n",
    "    \n",
    "    # print(f'\\nTHIS WILL BE THE LINE THICKNESS OF THE BBOX:\\n{line_thickness}')\n",
    "    \n",
    "    # iterate through each row of the subset dataframe, and draw box\n",
    "    \n",
    "    # print(f'\\nWE WILL NOW ITERATE THROUGH EACH ANNOTATION')\n",
    "    \n",
    "    n_rows = cur_df.shape[0]\n",
    "    cur_row = 0\n",
    "    for i, row in cur_df.iterrows():\n",
    "        \n",
    "        # print(f'\\n\\tROW {cur_row+1} of {n_rows}')\n",
    "        \n",
    "        cur_label = row[interest_cols['label']] # get the label of the row\n",
    "        \n",
    "        # print(f'\\n\\tTHIS IS THE CURRENT ANNOTATION LABEL:\\n\\t{cur_label}')\n",
    "        \n",
    "        # get the color (BGR) for the label\n",
    "        cur_col = label_bgrs[cur_label]\n",
    "        \n",
    "        # print(f'\\n\\tTHIS IS THE BGR FOR THE LABEL:\\n\\t{cur_col}')\n",
    "        \n",
    "        # make rectangle xy coordinates\n",
    "        x1 = row[interest_cols['x1']]\n",
    "        y1 = row[interest_cols['y1']]\n",
    "        x2 = row[interest_cols['x2']]\n",
    "        y2 = row[interest_cols['y2']]\n",
    "        coord_1, coord_2 = (x1, y1), (x2, y2)\n",
    "        \n",
    "        # print(f'\\n\\tTHIS IS THE TOP LEFT COORDINATE:\\n\\t{coord_1}')\n",
    "        # print(f'\\n\\tTHIS IS THE BOTTOM RIGHT COORDINATE:\\n\\t{coord_2}')\n",
    "        \n",
    "        # draw the bounding box\n",
    "        cv.rectangle(cur_img, \n",
    "                     coord_1, \n",
    "                     coord_2, \n",
    "                     cur_col, \n",
    "                     thickness=line_thickness, \n",
    "                     lineType=cv.LINE_AA,\n",
    "                    )\n",
    "        \n",
    "        # print(f'\\n\\tTHIS IS THE IMAGE WITH ADDED BBOX:\\n\\t')\n",
    "        # plt.imshow(cv.cvtColor(cur_img, cv.COLOR_BGR2RGB))\n",
    "        # plt.show()\n",
    "        \n",
    "        # insert text label\n",
    "        font_thickness = max(line_thickness - 1, 1)\n",
    "        w, h = cv.getTextSize(cur_label, \n",
    "                              0, \n",
    "                              fontScale=line_thickness / 3, \n",
    "                              thickness=font_thickness)[0]\n",
    "        coord_2 = coord_1[0] + w, coord_1[1] - h - 3\n",
    "        cv.rectangle(cur_img, \n",
    "                     coord_1, \n",
    "                     coord_2, \n",
    "                     cur_col, \n",
    "                     -1, \n",
    "                     cv.LINE_AA,\n",
    "                    )\n",
    "        cv.putText(cur_img, \n",
    "                   cur_label, \n",
    "                   (coord_1[0], coord_1[1] - 2), \n",
    "                   0, \n",
    "                   line_thickness / 3, \n",
    "                   txt_color, \n",
    "                   thickness=font_thickness, \n",
    "                   lineType=cv.LINE_AA,\n",
    "                  )\n",
    "        \n",
    "        # print(f'\\n\\tTHIS IS THE IMAGE WITH ADDED LABEL TEXT:\\n\\t')\n",
    "        # plt.imshow(cv.cvtColor(cur_img, cv.COLOR_BGR2RGB))\n",
    "        # plt.show()\n",
    "        \n",
    "        cur_row += 1\n",
    "    \n",
    "    \n",
    "    out_filepath = folder_locs['out_pics'] + filename # create relative filepath of the image to be saved\n",
    "    \n",
    "    # print(f'\\nSAVING THE FILE TO HERE:\\n{out_filepath}')\n",
    "    \n",
    "    cv.imwrite(out_filepath, cur_img) # save the file\n",
    "    "
   ]
  },
  {
   "cell_type": "code",
   "execution_count": null,
   "id": "595496f4-9a32-4c53-9afc-9e51be7a5603",
   "metadata": {},
   "outputs": [],
   "source": []
  }
 ],
 "metadata": {
  "kernelspec": {
   "display_name": "Python 3 (ipykernel)",
   "language": "python",
   "name": "python3"
  },
  "language_info": {
   "codemirror_mode": {
    "name": "ipython",
    "version": 3
   },
   "file_extension": ".py",
   "mimetype": "text/x-python",
   "name": "python",
   "nbconvert_exporter": "python",
   "pygments_lexer": "ipython3",
   "version": "3.9.7"
  }
 },
 "nbformat": 4,
 "nbformat_minor": 5
}
